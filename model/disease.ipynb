{
 "cells": [
  {
   "cell_type": "code",
   "metadata": {},
   "source": [
    "import pandas as pd"
   ],
   "outputs": [],
   "execution_count": null
  },
  {
   "cell_type": "code",
   "metadata": {},
   "source": [
    "# Define the data\n",
    "data = {\n",
    "    'Disease': ['Malaria', 'Pneumonia', 'Pulmonary TB', 'Urinary Tract Infections', 'Pelvic Inflammatory Disease'],\n",
    "    'Symptoms': [\n",
    "        'Fever, General body weakness, Joint pains, Chills, Headache, Abdominal pain, Nausea and vomiting, Confusion and disorientation, Anemia, Seizures',\n",
    "        'Cough, Fever, Difficulty breathing, Chest pain, Feeling weak, Nausea and vomiting, Chills',\n",
    "        'Cough more than 2 weeks, Chest pain, Fatigue, Loss of appetite, Chills, Night sweats, Shortness of breath',\n",
    "        'Burning sensation while urinating, Pain in the lower abdomen, Painful urination, Back pain, Fever and chills, Leaking of urine, Urgent need to urinate',\n",
    "        'Lower abdominal pain, Fever, Painful intercourse, Painful urination, Abnormal vaginal bleeding, Foul-smelling vaginal discharge, Pelvis swelling, Spotting or bleeding between periods'\n",
    "    ]\n",
    "}"
   ],
   "outputs": [],
   "execution_count": null
  },
  {
   "cell_type": "code",
   "metadata": {},
   "source": [
    "# Create a DataFrame\n",
    "df = pd.DataFrame(data)\n",
    "print(df)"
   ],
   "outputs": [],
   "execution_count": null
  },
  {
   "cell_type": "code",
   "metadata": {},
   "source": [
    "from sklearn.preprocessing import MultiLabelBinarizer\n",
    "\n",
    "# Split the symptoms into a list of individual symptoms\n",
    "df['Symptoms'] = df['Symptoms'].apply(lambda x: x.split(', '))\n",
    "\n",
    "# One-Hot Encode the symptoms\n",
    "mlb = MultiLabelBinarizer()\n",
    "encoded_symptoms = mlb.fit_transform(df['Symptoms'])\n",
    "\n",
    "# Convert back to DataFrame and merge with original\n",
    "symptom_df = pd.DataFrame(encoded_symptoms, columns=mlb.classes_)\n",
    "df_encoded = pd.concat([df['Disease'], symptom_df], axis=1)\n",
    "\n",
    "print(df_encoded)\n"
   ],
   "outputs": [],
   "execution_count": null
  },
  {
   "cell_type": "code",
   "metadata": {},
   "source": [
    "# Features are the encoded symptoms\n",
    "X = df_encoded.drop('Disease', axis=1)\n",
    "\n",
    "# Labels are the diseases\n",
    "y = df_encoded['Disease']"
   ],
   "outputs": [],
   "execution_count": null
  },
  {
   "cell_type": "code",
   "metadata": {},
   "source": [
    "from sklearn.model_selection import train_test_split\n",
    "\n",
    "# Split into training and testing data (80% train, 20% test)\n",
    "X_train, X_test, y_train, y_test = train_test_split(X, y, test_size=0.2, random_state=42)\n"
   ],
   "outputs": [],
   "execution_count": null
  },
  {
   "cell_type": "code",
   "metadata": {},
   "source": [
    "from sklearn.ensemble import RandomForestClassifier\n",
    "\n",
    "# Initialize the model\n",
    "model = RandomForestClassifier()\n",
    "\n",
    "# Train the model\n",
    "model.fit(X_train, y_train)"
   ],
   "outputs": [],
   "execution_count": null
  },
  {
   "cell_type": "code",
   "metadata": {},
   "source": [
    "# Predict on the test set\n",
    "y_pred = model.predict(X_test)"
   ],
   "outputs": [],
   "execution_count": null
  },
  {
   "cell_type": "code",
   "metadata": {},
   "source": [
    "from sklearn.metrics import accuracy_score, classification_report\n",
    "\n",
    "# Evaluate the accuracy\n",
    "accuracy = accuracy_score(y_test, y_pred)\n",
    "print(f'Accuracy: {accuracy * 100:.2f}%')\n",
    "\n",
    "# Detailed classification report\n",
    "print(classification_report(y_test, y_pred))"
   ],
   "outputs": [],
   "execution_count": null
  },
  {
   "cell_type": "code",
   "metadata": {},
   "source": [
    "# New input data (encoded symptoms)\n",
    "new_symptoms = ['Chest pain', 'fatigue', 'loss of appetite']  # Example symptoms\n",
    "new_symptoms_encoded = mlb.transform([new_symptoms])\n",
    "\n",
    "# Predict the disease\n",
    "prediction = model.predict(new_symptoms_encoded)\n",
    "print(f'Predicted Disease: {prediction[0]}')\n"
   ],
   "outputs": [],
   "execution_count": null
  },
  {
   "cell_type": "code",
   "metadata": {},
   "source": [
    "import pickle\n",
    "\n",
    "# Save the trained model\n",
    "with open('disease_model.pkl', 'wb') as model_file:\n",
    "    pickle.dump(model, model_file)\n",
    "\n",
    "# Save the MultiLabelBinarizer\n",
    "with open('mlb.pkl', 'wb') as mlb_file:\n",
    "    pickle.dump(mlb, mlb_file)\n"
   ],
   "outputs": [],
   "execution_count": null
  }
 ],
 "metadata": {
  "kernelspec": {
   "display_name": "Python 3 (ipykernel)",
   "language": "python",
   "name": "python3"
  },
  "language_info": {
   "codemirror_mode": {
    "name": "ipython",
    "version": 3
   },
   "file_extension": ".py",
   "mimetype": "text/x-python",
   "name": "python",
   "nbconvert_exporter": "python",
   "pygments_lexer": "ipython3",
   "version": "3.12.0"
  }
 },
 "nbformat": 4,
 "nbformat_minor": 4
}
